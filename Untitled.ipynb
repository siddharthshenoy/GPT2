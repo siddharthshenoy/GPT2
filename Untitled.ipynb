{
 "cells": [
  {
   "cell_type": "code",
   "execution_count": 1,
   "metadata": {},
   "outputs": [
    {
     "name": "stdout",
     "output_type": "stream",
     "text": [
      "WARNING:tensorflow:\n",
      "The TensorFlow contrib module will not be included in TensorFlow 2.0.\n",
      "For more information, please see:\n",
      "  * https://github.com/tensorflow/community/blob/master/rfcs/20180907-contrib-sunset.md\n",
      "  * https://github.com/tensorflow/addons\n",
      "  * https://github.com/tensorflow/io (for I/O related ops)\n",
      "If you depend on functionality not listed there, please file an issue.\n",
      "\n"
     ]
    }
   ],
   "source": [
    "import gpt_2_simple as gpt2\n",
    "import os\n",
    "import requests"
   ]
  },
  {
   "cell_type": "code",
   "execution_count": 2,
   "metadata": {},
   "outputs": [],
   "source": [
    "import tensorflow as tf"
   ]
  },
  {
   "cell_type": "code",
   "execution_count": 3,
   "metadata": {},
   "outputs": [],
   "source": [
    "from gtts import gTTS   \n",
    "from playsound import playsound  "
   ]
  },
  {
   "cell_type": "code",
   "execution_count": 14,
   "metadata": {},
   "outputs": [],
   "source": [
    "tf.reset_default_graph()"
   ]
  },
  {
   "cell_type": "code",
   "execution_count": 5,
   "metadata": {},
   "outputs": [
    {
     "data": {
      "text/plain": [
       "['/device:GPU:0']"
      ]
     },
     "execution_count": 5,
     "metadata": {},
     "output_type": "execute_result"
    }
   ],
   "source": [
    "gpt2.get_available_gpus()"
   ]
  },
  {
   "cell_type": "code",
   "execution_count": 6,
   "metadata": {},
   "outputs": [],
   "source": [
    "model_name = \"124M\"\n",
    "if not os.path.isdir(os.path.join(\"models\", model_name)):\n",
    "\tprint(f\"Downloading {model_name} model...\")\n",
    "\tgpt2.download_gpt2(model_name=model_name)"
   ]
  },
  {
   "cell_type": "code",
   "execution_count": 7,
   "metadata": {},
   "outputs": [],
   "source": [
    "file_name = \"genre.txt\""
   ]
  },
  {
   "cell_type": "code",
   "execution_count": 15,
   "metadata": {},
   "outputs": [
    {
     "name": "stdout",
     "output_type": "stream",
     "text": [
      "Loading checkpoint checkpoint\\genrerun\\model-3050\n",
      "INFO:tensorflow:Restoring parameters from checkpoint\\genrerun\\model-3050\n"
     ]
    }
   ],
   "source": [
    "sess = gpt2.start_tf_sess()\n",
    "gpt2.load_gpt2(sess,\n",
    "              checkpoint='latest',\n",
    "              run_name=\"genrerun\")"
   ]
  },
  {
   "cell_type": "code",
   "execution_count": 9,
   "metadata": {},
   "outputs": [],
   "source": [
    "config = tf.ConfigProto() \n",
    "config.gpu_options.allow_growth = True \n",
    "session = tf.Session(config=config) "
   ]
  },
  {
   "cell_type": "code",
   "execution_count": 7,
   "metadata": {},
   "outputs": [],
   "source": [
    "\n",
    "sess = gpt2.start_tf_sess()"
   ]
  },
  {
   "cell_type": "code",
   "execution_count": null,
   "metadata": {},
   "outputs": [],
   "source": [
    "gpt2.finetune(sess,\n",
    "             file_name,\n",
    "             steps=100,\n",
    "             model_name='124M',\n",
    "             model_dir='models',\n",
    "             combine=50000,\n",
    "             batch_size=1,\n",
    "             learning_rate=0.0001,\n",
    "             accumulate_gradients=1,\n",
    "             restore_from='latest',\n",
    "             run_name='genrerun',\n",
    "             checkpoint_dir='checkpoint',\n",
    "             sample_every=500,\n",
    "             sample_length=1023,\n",
    "             sample_num=1,\n",
    "             multi_gpu=False,\n",
    "             save_every=1000,\n",
    "             print_every=5,\n",
    "             max_checkpoints=1,\n",
    "             use_memory_saving_gradients=True,\n",
    "             only_train_transformer_layers=False,\n",
    "             optimizer='adam',\n",
    "             overwrite=False)"
   ]
  },
  {
   "cell_type": "code",
   "execution_count": 16,
   "metadata": {},
   "outputs": [
    {
     "name": "stdout",
     "output_type": "stream",
     "text": [
      "Thu Apr 15 00:00:44 2021       \n",
      "+-----------------------------------------------------------------------------+\n",
      "| NVIDIA-SMI 456.43       Driver Version: 456.43       CUDA Version: 11.1     |\n",
      "|-------------------------------+----------------------+----------------------+\n",
      "| GPU  Name            TCC/WDDM | Bus-Id        Disp.A | Volatile Uncorr. ECC |\n",
      "| Fan  Temp  Perf  Pwr:Usage/Cap|         Memory-Usage | GPU-Util  Compute M. |\n",
      "|===============================+======================+======================|\n",
      "|   0  GeForce GTX 166... WDDM  | 00000000:01:00.0  On |                  N/A |\n",
      "| N/A   47C    P8     4W /  N/A |   5458MiB /  6144MiB |      1%      Default |\n",
      "+-------------------------------+----------------------+----------------------+\n",
      "                                                                               \n",
      "+-----------------------------------------------------------------------------+\n",
      "| Processes:                                                                  |\n",
      "|  GPU   GI   CI        PID   Type   Process name                  GPU Memory |\n",
      "|        ID   ID                                                   Usage      |\n",
      "|=============================================================================|\n",
      "|    0   N/A  N/A       824    C+G   ...wekyb3d8bbwe\\Video.UI.exe    N/A      |\n",
      "|    0   N/A  N/A      1372    C+G   Insufficient Permissions        N/A      |\n",
      "|    0   N/A  N/A      3368    C+G   ...8wekyb3d8bbwe\\GameBar.exe    N/A      |\n",
      "|    0   N/A  N/A      3568    C+G   ..._dt26b99r8h8gj\\RtkUWP.exe    N/A      |\n",
      "|    0   N/A  N/A      4900    C+G   ...perience\\NVIDIA Share.exe    N/A      |\n",
      "|    0   N/A  N/A      6200    C+G   ...nputApp\\TextInputHost.exe    N/A      |\n",
      "|    0   N/A  N/A      7424    C+G   C:\\Windows\\explorer.exe         N/A      |\n",
      "|    0   N/A  N/A      7624    C+G   ...artMenuExperienceHost.exe    N/A      |\n",
      "|    0   N/A  N/A      8516    C+G   ...5n1h2txyewy\\SearchApp.exe    N/A      |\n",
      "|    0   N/A  N/A      8800    C+G   ...ekyb3d8bbwe\\YourPhone.exe    N/A      |\n",
      "|    0   N/A  N/A      8820    C+G   ...y\\ShellExperienceHost.exe    N/A      |\n",
      "|    0   N/A  N/A      9152      C   ...grams\\anaconda\\python.exe    N/A      |\n",
      "|    0   N/A  N/A     11208    C+G   ...lPanel\\SystemSettings.exe    N/A      |\n",
      "|    0   N/A  N/A     14620    C+G   ...b3d8bbwe\\WinStore.App.exe    N/A      |\n",
      "|    0   N/A  N/A     14792    C+G   ...me\\Application\\chrome.exe    N/A      |\n",
      "|    0   N/A  N/A     17296    C+G   ...4__8wekyb3d8bbwe\\Time.exe    N/A      |\n",
      "+-----------------------------------------------------------------------------+\n"
     ]
    }
   ],
   "source": [
    "!nvidia-smi"
   ]
  },
  {
   "cell_type": "code",
   "execution_count": 26,
   "metadata": {},
   "outputs": [
    {
     "data": {
      "text/plain": [
       "['<|startoftext|><action>the elephants are attacking a female tiger which is attacking the wearer of his traditional cotton robe. The female is carrying a large golden snake which runs to the door. The snake is in a state of alert and is in a state of confusion. The female is slowly being startled by the sounds of the tiger. At the moment the female starts to run to the door, she is suddenly struck by a sudden sound of a huge rain storm which throws the tiger into the forest. The female then gets a frightful look at the tiger and, upon seeing it, sees that the snake is indeed a female. She then sees that the tiger is a female and that the snake is not a male. She then sees that the female is looking at the tiger and the female is trying to be more friendly. The female then realizes that she is the female and that the tiger is a male. She then sees that the female is in the right spot and follows the tiger to her spot. The female then becomes confused and rushes to the spot, getting arrested by the tiger. The female then realizes that the female is not the female and that the animal is not a male. The animal is an elephant. As she tries to stop the elephant, the female tries to stop the female. The female then feels that the female is the female. The female then realizes that the female is the female. The female is then shocked by the sudden sound of the rain and rushes to the spot. The female then remembers that the female is the female and that the female is not a male. The female then feels that the female is the female. The female then returns to the spot where the female is chasing her. The female then sees the female. The female then rushes to the spot where the female is chasing her. The female then sees that the female is a male. The female then is then shocked by the sudden sound of the rain and rushes to the spot where the female is chasing her. The female then notices the male and rushes to the spot where the female is chasing her. The female then sees that the female is the female. The female then is then shocked by the sudden sounds of the rain. The female then rushes to the spot where the female is chasing her. The female then sees the male and rushes to the spot where the female is chasing the males. The male then sees the female and rushes to the spot where the female is chasing the males. The male then sees the female and rushes to the spot where the female is chasing the females. The male then sees the female and rushes to the spot where the females are chasing the males. The female then sees the female and rushes to the spot where the female is chasing the females. The female then sees the female and rushes to the spot where the female is chasing the females. The female then sees the female and rushes to the spot where the female is chasing the females. The female then sees the female and rushes to the spot where the female is chasing the males. The female then sees the female and rushes to the spot where the female is chasing the males. The female then sees the female and rushes to the spot where the female is chasing the males. The female then sees the female and rushes to the spot where the female is chasing the males. The female then sees the female and rushes to the spot where the female is chasing the males. The female then sees the female and rushes to the spot where the female is chasing the females. The female then sees the female and rushes to the spot where the female is chasing the females. The female then sees the female and rushes to the spot where the female is chasing the males. The female then sees the female and rushes to the spot where the female is chasing the males. The female then sees the female and rushes to the spot where the female is chasing the males. The female then sees the female and rushes to the spot where the female is chasing the males. The female then sees the male and rushes to the spot where the male is chasing the females. The female then sees the male and rushes to the spot where the female is chasing the females. The female then sees the male and rushes to the spot where the female is chasing the females. The male then sees the male and rushes to the spot where the female is chasing the females. The male then sees the male and rushes to the spot where the female is chasing the females. The female then sees the female and rushes to the spot where the female is chasing the females. The female then sees the female and rushes to the spot where the female is chasing the females. The male then comes to the spot where the female is chasing the females. The male then comes to the spot where the female is chasing the males. The male then comes to the spot where the female is chasing the females. The male then comes to the spot where the female is chasing the males. The male then comes to the spot where the female is chasing the females. The male then comes to the spot where the female is chasing',\n",
       " \"<|startoftext|><action>the elephants are attacking a native tribe in the forest. The tribesmen are gaining strength by poisoning their food, and when they are defeated they send the soldiers to the forest. The elephants are not afraid to attack the native people and kill the villagers. However the elephants attack the native tribe with a pistol. The soldiers do not believe that the villagers are the ones who are responsible for the elephants, but they soon learn of the terms of the truce.  They soon learn of the tribe's plan to kill the elephants, and they attack the native leader. The native leader escapes, and the native people are killed. They also learn of the nature of elephants and the different ways to kill them.  The young man who was the target of the elephants is named Bruce Stark. His father was a great warrior who fought for the Indians. He has been in a long army with the Indian tribesman. He has an Indian name. He is a man of great command and power. His father was a great warrior who was the chief of the tribe. He was a womaniser. He was a womaniser. He was a wifemaker. He was a womaniser. He was a womaniser. He was a wifemaker. He was a husbandmaker. He was a wifemaker. He was a womaniser.  Bruce Stark was a good man. He was a husbandmaker. He was a wifemaker. He was a wifemaker. He was a wifemaker. He was a husbandmaker. He was a husbandmaker. He was a wifemaker. He was a wifemaker. He was a wifemaker. He was a wifemaker. He was a wifemaker. He was a wifemaker. He was a wifemaker. He was a wifemaker. He was a wifemaker. He was a husbandmaker. He was a wifemaker. He was a wifemaker. He was a wifemaker. He was a wifemaker. He was a husbandmaker. He was a wifemaker. He was a wifemaker. He was a wifemaker. He was a wifemaker. He was a wifemaker. He was a wifemaker. He was a wifemaker. He was a wifemaker. He was a wifemaker. He was a wifemaker. He was a wifemaker. He was a wifemaker. He was a wifemaker. He was a wifemaker. He was a wifemaker. He was a wifemaker. He was a wifemaker. He was a wifemaker. He was a wifemaker. He was a wifemaker. He was a wifemaker. He was a wifemaker. He was a wifemaker. He was a wifemaker. He was a wifemaker. He was a wifemaker. He was a wifemaker. He was a wifemaker. He was a wifemaker. He was a wifemaker. He was a wifemaker. He was a wifemaker. He was a wifemaker. He was a wifemaker. He was a wifemaker. He was a wifemaker. He was a wifemaker. He was a wifemaker. He was a wifemaker. He was a wifemaker. He was a wifemaker. He was a wifemaker. He was a wifemaker. He was a wifemaker. He was a wifemaker. He was a wifemaker. He was a wifemaker. He was a wifemaker. He was a wifemaker. He was a wifemaker. He was a wifemaker. He was a wifemaker. He was a wifemaker. He was a wifemaker.  Bruce Stark was a good man. He was a good man. He was a good man. He was a good man. He was a good man. He was a good man. He was a good man. He was a good man. He was a good man. He was a good man. He was a good man. He was a good man.  Bruce Stark was a good man. He was a good man. He was a good man. He was a good man. He was a good man. He was a good man. He was a good man. He was a good man. He was a good man. He was a good man. He was a good man. He was a good man. He was a good man. He was a good man. He was a good man. He was a good man. He was a good man. He was a good man. He was a good man. He was a good man. He was a good man. He was a good man. He was a good man. He was a good man. He is a good man. He was a good man. He was a good man. He was a good man. He was a good man. He was a good man. He was a good man. He was a good man. He was a good man. He was a good man. He was a good man. He was a good man.\",\n",
       " '<|startoftext|><action>the elephants are attacking the old man and the men guard their house. They are not having much time to do anything. The old man is in a hurry to leave the house. He is in the hurry to leave. The elephants attack him, but he makes a lorry van run off the road. He runs back home and the elephants come to him, taking him and his daughter hostage. The elephants then take him and take his daughter hostage, but they escape. They then take him and take his daughter hostage. They then take him and his daughter hostage and the elephants leave the house. The elephants then take the old man and his daughter hostage and take them and take them and take them and take them and take the captive and take them and take the captive and take them and take the captive, take the captive and take the captive and take them and take the captive and take them and take the captive and take the captive and take the captive and take the captive and take the captive and take the captive and take the captive and take the captive and take the captive and take the captive and take the captive and take the captive and take the captive and take the captive and take the captive and take the captive and take the captive and take the captive and take the captive and take the captive and take the captive and take the captive and take the captive and take the captive and take the captive and take the captive and take the captive and take the captive and take the captive and take the captive and take the captive and take the captive and take the captive and take the captive and take the captive and take the captive and take the captive and take the captive and take the captive and take the captive and take the captive and take the captive and take the captive and take the captive and take the captive and take the captive and take the captive and take the captive and take the captive and take the captive and take the captive and take the captive and take the captive and take the captive and take the captive and take the captive and take the captive and take the captive and take the captive and take the captive and take the captive and take the captive and take the captive and take the captive and take the captive and take the captive and take the captive and take the captive and take the captive and take the captive and take the captive and take the captive and take the captive and take the captive and take the captive and take the captive and take the captive and take the captive and take the captive and take the captive and take the captive and take the captive and take the captive and take the captive and take the captive and take the captive and take the captive and take the captive and take the captive and take the captive and take the captive and take the captive and take the captive and take the captive and take the captive and take the captive and take the captive and take the captive and take the captive and take the captive and take the captive and take the captive and take the captive and take the captive and take the captive and take the captive and take the captive and take the captive and take the captive and take the captive and take the captive and take the captive and take the captive and take the captive and take the captive and take the captive and take the captive and take the captive and take the captive and take the captive and take the captive and take the captive and take the captive and take the captive and take the captive and take the captive and take the captive and take the captive and take the captive and take the captive and take the captive and take the captive and take the captive and take the captive and take the captive and take the captive and take the captive and take the captive and take the captive and take the captive and take the captive and take the captive and take the captive and take the captive and take the captive and take the captive and take the captive and take the captive and take the captive and take the captive and take the captive and take the captive and take the captive and take the captive and take the captive and take the captive and take the captive and take the captive and take the captive and take the captive and take the captive and take the captive and take the captive and take the captive and take the captive and take the captive and take the captive and take the captive and take the captive and take the captive and take the captive and take the captive and take the captive and take the captive and take the captive and take the captive and take the captive and take the captive and take the captive and take the captive and take the captive and take the captive and take the captive and take the captive and take the captive and take the captive and take the captive and take the captive and take the captive and take the captive and take the captive and take the captive and take the captive and take the captive and take the captive and take the captive and take the captive and take the captive and take the captive and take the captive and take the captive and take the captive and take the captive and take the captive and take the captive and take the captive and take the captive and take the captive and take the captive',\n",
       " '<|startoftext|><action>the elephants are attacking a female elephant, which leads to a series of fights and deaths. ',\n",
       " '<|startoftext|><action>the elephants are attacking a local farmer, and only the family members of the thief are spared. One night the thief, who has been living with them for over two years, is found dead. The family members have to find the thief and rescue him. As the family members prepare to leave the village, the thief is found lying in a tree, dead in the river. The family members are attacked by the elephant and taken to the hospital. The family members do not know who the elephant is, and the villagers decide to take revenge on the elephant. The villagers then decide to take revenge on the thief. The villagers then decide to take revenge on the thief by killing his family members. However, the villagers decide to do it by themselves, and the villagers then decide to take revenge on the thief by killing the local farmer and killing all the villagers and children and leaving the village. The villagers then decide to take revenge on the thief by killing all the villagers and children and leaving the village.   The villagers then decide to take revenge on the thief by killing all the villagers and children and leaving the village. The villagers then decide to take revenge on the thief by killing the villagers and children and leaving the village. The villagers then decide to take revenge on the thief by killing all the villagers and children and leaving the village. The villagers then decide to take revenge on the thief by killing all the villagers and children and leaving the village. The villagers then decide to take revenge on the thief by killing all the villagers and children and leaving the village. The villagers then decide to take revenge on the thief by killing all the villagers and children and leaving the village. The villagers then decide to take revenge on the thief by killing all the villagers and children and leaving the village. The villagers then decide to take revenge on the thief by killing all the villagers and children. The villagers then decide to take revenge on the thief by killing all the villagers and children and leaving the village. The villagers then decide to take revenge on the thief by killing all the villagers and children and leaving the village. The villagers then decide to take revenge on the thief by killing all the villagers and children and leaving the village. The villagers then decide to take revenge on the thief by killing all the villagers and children and leaving the village. The villagers then decide to take revenge on the thief by killing all the villagers and children and leaving the village. The villagers then decide to take revenge on the thief by killing all the villagers and children and leaving the village. The villagers then decide to take revenge on the thief by killing all the villagers and children and leaving the village. The villagers then decide to take revenge on the thief by killing all the villagers and children and leaving the village. The villagers then decide to take revenge on the thief by killing all the villagers and children and leaving the village and leaving the village. The villagers then decide to take revenge on the thief by killing all the villagers and children and leaving the village. The villagers then decide to take revenge on the thief by killing all the villagers and children and leaving the village. The villagers then decide to take revenge on the thief by killing all the villagers and children and leaving the village. The villagers then decide to take revenge on the thief by killing all the villagers and children and leaving the village. The villagers then decide to take revenge on the thief by killing all the villagers and children and leaving the village. The villagers then decide to take revenge on the thief by killing all the villagers and children and leaving the village. The villagers then decide to take revenge on the thief by killing all the villagers and children and leaving the village. The villagers then decide to take revenge on the thief by killing all the villagers and children and leaving the village. The villagers then decide to take revenge on the thief by killing all the villagers and children and leaving the village. The villagers then decide to take revenge on the thief by killing all the villagers and children and leaving the village. The villagers then decide to take revenge on the thief by killing all the villagers and children and leaving the village. The villagers then decide to take revenge on the thief by killing all the villagers and children and leaving the village. The villagers then decide to take revenge on the thief by killing all the villagers and children and leaving the village. The villagers then decide to take revenge on the thief by killing all the villagers and children and leaving the village. The villagers then decide to take revenge on the thief by killing all the villagers and children and leaving the village. The villagers then decide to take revenge on the thief by killing all the villagers and children and leaving the village. The villagers then decide to take revenge on the thief by killing all the villagers and children and leaving the village.  The villagers then decide to take revenge on the thief by killing all the villagers and children and leaving the village. The villagers then decide to take revenge on the thief by killing all the villagers and children and leaving the village. The villagers then decide to take revenge on the thief by killing all the villagers and children and leaving the village']"
      ]
     },
     "execution_count": 26,
     "metadata": {},
     "output_type": "execute_result"
    }
   ],
   "source": [
    "gpt2.generate(sess,\n",
    "              temperature=0.7,\n",
    "              prefix=\"<|startoftext|><action>the elephants are attacking\",\n",
    "              truncate=\"<|endoftext|>\",\n",
    "              nsamples=5,\n",
    "            )"
   ]
  },
  {
   "cell_type": "code",
   "execution_count": 23,
   "metadata": {},
   "outputs": [
    {
     "data": {
      "text/plain": [
       "\"<|startoftext|><action>i miss you. you're actually a human being and everything is not real. you're a human being who was sent to your warden house and planted some sort of fallen melon tree on the living room floor and it is the first time i ever saw it but he is actually a human who went to his warden house and planted some fell melons and it is the second time i saw it but he is actually a human who went to his warden house and planted some fall melons in a tree on the living room floor and it is the first time i ever saw it. i'm actually a biologist who studies the biological effects of plant growth on humans and studies the effects of plant growth on plants. i'm also a man who has a second wife as well and lives with her husband with the same lot. i'm also a woman who has another son and she's a very special person and she's the first time i ever saw her son. what you guys are doing by going to her son and planting the fall melons is something like the first time i ever saw her son. the second time i ever saw her son. i'm a woman who has another son and has a second wife and lives with her husband with the same lot. i'm also a woman who has another son, and lives with her husband with the same lot. i'm also a woman who has her son. when i first saw her son i'm actually a human who is still alive. the second time i ever saw her son. i'm a human who looks like a man. the second time i ever saw the man. i'm in love with the man who is the second time i ever saw the man. the second time i ever saw the man. i'm in love with the man who is the second time i ever saw the man. i'm in love with the man who is the second time i ever saw the man. warden and the first time i ever saw the man. i'm in love with the man who is the second timei ever saw the man. i'm in love with the man who is the second timei ever seen the man. i'm in love with the man who is the second timei ever saw the man. i'm in love with the man who is the second timei ever saw the man. i'm in love with the man who is the second timei ever saw the man. i'm in love with the man who is the second timei ever saw the man. i'm in love with the man who is the second timei ever seen the man. i'm in love with the person who is the second time i ever saw the person. i'm in love with the person who is the second timei ever saw the person. i'm in love with the person who is the second timei ever saw the person. i'm in love with the person who is the second timei ever saw the person. that is the second time i've seen the person. I'm in love with the woman who is the second time i've seen the woman. that is the second time i've seen the woman. i'm in love with the woman who is the second timei ever seen the woman. that is the second timei have seen the woman. i'm in love with the woman who is the second time i've watched the woman. i'm in love with the woman who is the second timei ever watched the woman. that is the second timei have seen the woman. i'm in love with the woman who is the second timei ever watched the woman. i'm in love with the woman who is the second timei ever seen the woman. i'm in love with the woman who is the second timei ever watched the woman. i'm in love with the woman who is the second timei ever watched the woman. that is the second timei have seen the woman. i'm in love with the woman who is the second timei ever watched the woman. i'm in love with the woman who is the second timei ever watched the woman. i'm in love with the man who is the 2nd time i've seen the man. i'm in love with the man who is the 2nd time i've seen the man. i'm in love with the man who is the 2nd time i've seen the man. i'm in love with the man who is the 2nd timei ever seen the man. i'm in love with the man who is the 2nd timei ever seen the man. i'm in love with the man who is the 2nd timei ever seen the man. i'm in love with the man who is the 2nd timei ever seen the man. i'm in love with the man who is the 2nd time i've seen the man. i'm in love with the man who is the 2nd timei ever seen the man. i'm in love with the man\""
      ]
     },
     "execution_count": 23,
     "metadata": {},
     "output_type": "execute_result"
    }
   ],
   "source": [
    "audio_text"
   ]
  },
  {
   "cell_type": "code",
   "execution_count": 24,
   "metadata": {},
   "outputs": [],
   "source": [
    "language = 'en'  \n",
    "obj = gTTS(text=audio_text, lang=language, slow=False)  \n",
    "obj.save(\"dracula.mp3\") "
   ]
  },
  {
   "cell_type": "code",
   "execution_count": null,
   "metadata": {},
   "outputs": [],
   "source": [
    "playsound('dracula.mp3')"
   ]
  },
  {
   "cell_type": "code",
   "execution_count": null,
   "metadata": {},
   "outputs": [],
   "source": []
  }
 ],
 "metadata": {
  "kernelspec": {
   "display_name": "Python 3",
   "language": "python",
   "name": "python3"
  },
  "language_info": {
   "codemirror_mode": {
    "name": "ipython",
    "version": 3
   },
   "file_extension": ".py",
   "mimetype": "text/x-python",
   "name": "python",
   "nbconvert_exporter": "python",
   "pygments_lexer": "ipython3",
   "version": "3.7.6"
  }
 },
 "nbformat": 4,
 "nbformat_minor": 4
}
